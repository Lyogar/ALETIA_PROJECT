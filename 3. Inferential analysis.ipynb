{
 "cells": [
  {
   "cell_type": "markdown",
   "id": "b34b6f45",
   "metadata": {},
   "source": [
    "## Inferential analysis"
   ]
  },
  {
   "cell_type": "markdown",
   "id": "b3026b8b",
   "metadata": {},
   "source": [
    "Dado que en el análisis anterior he averiguado cuales son los géneros más exitosos para cada año, para esos datos voy a intentar predecir cual será la ganancia del género mas exitoso en algún año futuro partiendo de los datos recopilados y las distintas variables.\n",
    "\n",
    "Given that in the previous analysis, I have determined the most successful genres for each year, I will now attempt to predict the earnings of the most successful genre in a future year based on the collected data and various variables."
   ]
  },
  {
   "cell_type": "markdown",
   "id": "5fdf000a",
   "metadata": {},
   "source": [
    "Empiezo por importar los datos generados en la sección anterior.\n",
    "\n",
    "\n",
    "I begin by importing the data generated in the previous section."
   ]
  },
  {
   "cell_type": "code",
   "execution_count": 1,
   "id": "a3a7df02",
   "metadata": {},
   "outputs": [],
   "source": [
    "import pandas as pd\n",
    "import matplotlib.pyplot as plt\n",
    "from sklearn.model_selection import train_test_split\n",
    "from sklearn.metrics import mean_squared_error\n",
    "import statsmodels.api as sm\n",
    "import numpy as np\n",
    "\n",
    "general_data = pd.read_csv('updated_data/indexGeneral.csv')\n",
    "gen = pd.read_csv('updated_data/genres.csv')\n",
    "general_table = pd.read_csv('updated_data/resume_table.csv')"
   ]
  },
  {
   "cell_type": "markdown",
   "id": "7b17ae7c",
   "metadata": {},
   "source": [
    "Creo un nuevo data frame para añadir las columnas del año y del género.\n",
    "\n",
    "I create a new data frame to add the columns for the year and the genre."
   ]
  },
  {
   "cell_type": "code",
   "execution_count": 2,
   "id": "5db8046f",
   "metadata": {},
   "outputs": [],
   "source": [
    "copy_general = general_data\n",
    "copy_general['Year'] = None\n",
    "copy_general['Genre'] = None\n",
    "copy_general['Release'] = pd.to_datetime(copy_general['Release'], format='%Y-%m-%d')\n",
    "copy_general['Year'] = general_data['Release'].dt.year\n",
    "mapeo = gen.set_index('id')['Genre'].to_dict()\n",
    "copy_general['Genre'] = copy_general['id_genre'].map(mapeo).fillna(copy_general['Genre'])"
   ]
  },
  {
   "cell_type": "markdown",
   "id": "f665f752",
   "metadata": {},
   "source": [
    "Después esos datos los llevo a otra tabla donde puse las ganancias generales del año, las ganancias totales del género más exitoso, el total de peliculas evaluadas ese año, el total de películas del género que más ganó y reemplazo el género por un valor númerico para poder hacer una regresión lineal.\n",
    "\n",
    "Then, I transfer this data to another table where I included the overall earnings of the year, the total earnings of the most successful genre, the total number of evaluated movies that year, the total number of movies of the genre that earned the most, and I replace the genre with a numerical value to perform a linear regression."
   ]
  },
  {
   "cell_type": "code",
   "execution_count": 3,
   "id": "97c0497a",
   "metadata": {},
   "outputs": [
    {
     "data": {
      "text/html": [
       "<div>\n",
       "<style scoped>\n",
       "    .dataframe tbody tr th:only-of-type {\n",
       "        vertical-align: middle;\n",
       "    }\n",
       "\n",
       "    .dataframe tbody tr th {\n",
       "        vertical-align: top;\n",
       "    }\n",
       "\n",
       "    .dataframe thead th {\n",
       "        text-align: right;\n",
       "    }\n",
       "</style>\n",
       "<table border=\"1\" class=\"dataframe\">\n",
       "  <thead>\n",
       "    <tr style=\"text-align: right;\">\n",
       "      <th></th>\n",
       "      <th>Year</th>\n",
       "      <th>Genre</th>\n",
       "      <th>Total Genre Gross</th>\n",
       "      <th>General Gross</th>\n",
       "      <th>General Movie Count</th>\n",
       "      <th>Movie by Genre Count</th>\n",
       "    </tr>\n",
       "  </thead>\n",
       "  <tbody>\n",
       "    <tr>\n",
       "      <th>0</th>\n",
       "      <td>2000</td>\n",
       "      <td>0</td>\n",
       "      <td>1.600586e+09</td>\n",
       "      <td>7.399258e+09</td>\n",
       "      <td>195.0</td>\n",
       "      <td>44.0</td>\n",
       "    </tr>\n",
       "    <tr>\n",
       "      <th>1</th>\n",
       "      <td>2001</td>\n",
       "      <td>1</td>\n",
       "      <td>2.012124e+09</td>\n",
       "      <td>7.998313e+09</td>\n",
       "      <td>196.0</td>\n",
       "      <td>22.0</td>\n",
       "    </tr>\n",
       "    <tr>\n",
       "      <th>2</th>\n",
       "      <td>2002</td>\n",
       "      <td>1</td>\n",
       "      <td>2.900425e+09</td>\n",
       "      <td>8.502773e+09</td>\n",
       "      <td>186.0</td>\n",
       "      <td>30.0</td>\n",
       "    </tr>\n",
       "    <tr>\n",
       "      <th>3</th>\n",
       "      <td>2003</td>\n",
       "      <td>0</td>\n",
       "      <td>2.018149e+09</td>\n",
       "      <td>8.096038e+09</td>\n",
       "      <td>194.0</td>\n",
       "      <td>39.0</td>\n",
       "    </tr>\n",
       "    <tr>\n",
       "      <th>4</th>\n",
       "      <td>2004</td>\n",
       "      <td>1</td>\n",
       "      <td>2.749105e+09</td>\n",
       "      <td>8.941956e+09</td>\n",
       "      <td>189.0</td>\n",
       "      <td>28.0</td>\n",
       "    </tr>\n",
       "    <tr>\n",
       "      <th>5</th>\n",
       "      <td>2005</td>\n",
       "      <td>1</td>\n",
       "      <td>2.172847e+09</td>\n",
       "      <td>8.336182e+09</td>\n",
       "      <td>191.0</td>\n",
       "      <td>21.0</td>\n",
       "    </tr>\n",
       "    <tr>\n",
       "      <th>6</th>\n",
       "      <td>2006</td>\n",
       "      <td>1</td>\n",
       "      <td>2.594192e+09</td>\n",
       "      <td>8.927918e+09</td>\n",
       "      <td>194.0</td>\n",
       "      <td>25.0</td>\n",
       "    </tr>\n",
       "    <tr>\n",
       "      <th>7</th>\n",
       "      <td>2007</td>\n",
       "      <td>1</td>\n",
       "      <td>2.784300e+09</td>\n",
       "      <td>9.406028e+09</td>\n",
       "      <td>187.0</td>\n",
       "      <td>21.0</td>\n",
       "    </tr>\n",
       "    <tr>\n",
       "      <th>8</th>\n",
       "      <td>2008</td>\n",
       "      <td>1</td>\n",
       "      <td>2.596511e+09</td>\n",
       "      <td>9.397212e+09</td>\n",
       "      <td>187.0</td>\n",
       "      <td>27.0</td>\n",
       "    </tr>\n",
       "    <tr>\n",
       "      <th>9</th>\n",
       "      <td>2009</td>\n",
       "      <td>1</td>\n",
       "      <td>2.671019e+09</td>\n",
       "      <td>1.086371e+10</td>\n",
       "      <td>188.0</td>\n",
       "      <td>28.0</td>\n",
       "    </tr>\n",
       "    <tr>\n",
       "      <th>10</th>\n",
       "      <td>2010</td>\n",
       "      <td>1</td>\n",
       "      <td>3.018326e+09</td>\n",
       "      <td>9.167334e+09</td>\n",
       "      <td>184.0</td>\n",
       "      <td>21.0</td>\n",
       "    </tr>\n",
       "    <tr>\n",
       "      <th>11</th>\n",
       "      <td>2011</td>\n",
       "      <td>2</td>\n",
       "      <td>2.265980e+09</td>\n",
       "      <td>9.762256e+09</td>\n",
       "      <td>189.0</td>\n",
       "      <td>25.0</td>\n",
       "    </tr>\n",
       "    <tr>\n",
       "      <th>12</th>\n",
       "      <td>2012</td>\n",
       "      <td>1</td>\n",
       "      <td>2.518879e+09</td>\n",
       "      <td>1.022765e+10</td>\n",
       "      <td>188.0</td>\n",
       "      <td>20.0</td>\n",
       "    </tr>\n",
       "    <tr>\n",
       "      <th>13</th>\n",
       "      <td>2013</td>\n",
       "      <td>1</td>\n",
       "      <td>2.877316e+09</td>\n",
       "      <td>1.049967e+10</td>\n",
       "      <td>183.0</td>\n",
       "      <td>21.0</td>\n",
       "    </tr>\n",
       "    <tr>\n",
       "      <th>14</th>\n",
       "      <td>2014</td>\n",
       "      <td>1</td>\n",
       "      <td>2.757885e+09</td>\n",
       "      <td>1.056296e+10</td>\n",
       "      <td>194.0</td>\n",
       "      <td>23.0</td>\n",
       "    </tr>\n",
       "    <tr>\n",
       "      <th>15</th>\n",
       "      <td>2015</td>\n",
       "      <td>1</td>\n",
       "      <td>3.393422e+09</td>\n",
       "      <td>1.057477e+10</td>\n",
       "      <td>192.0</td>\n",
       "      <td>25.0</td>\n",
       "    </tr>\n",
       "    <tr>\n",
       "      <th>16</th>\n",
       "      <td>2016</td>\n",
       "      <td>1</td>\n",
       "      <td>3.890999e+09</td>\n",
       "      <td>1.074117e+10</td>\n",
       "      <td>193.0</td>\n",
       "      <td>25.0</td>\n",
       "    </tr>\n",
       "    <tr>\n",
       "      <th>17</th>\n",
       "      <td>2017</td>\n",
       "      <td>2</td>\n",
       "      <td>3.230403e+09</td>\n",
       "      <td>1.074188e+10</td>\n",
       "      <td>190.0</td>\n",
       "      <td>29.0</td>\n",
       "    </tr>\n",
       "    <tr>\n",
       "      <th>18</th>\n",
       "      <td>2018</td>\n",
       "      <td>2</td>\n",
       "      <td>3.986608e+09</td>\n",
       "      <td>1.129954e+10</td>\n",
       "      <td>195.0</td>\n",
       "      <td>30.0</td>\n",
       "    </tr>\n",
       "    <tr>\n",
       "      <th>19</th>\n",
       "      <td>2019</td>\n",
       "      <td>1</td>\n",
       "      <td>3.984278e+09</td>\n",
       "      <td>1.121652e+10</td>\n",
       "      <td>192.0</td>\n",
       "      <td>28.0</td>\n",
       "    </tr>\n",
       "    <tr>\n",
       "      <th>20</th>\n",
       "      <td>2020</td>\n",
       "      <td>1</td>\n",
       "      <td>4.149773e+08</td>\n",
       "      <td>1.310789e+09</td>\n",
       "      <td>164.0</td>\n",
       "      <td>12.0</td>\n",
       "    </tr>\n",
       "    <tr>\n",
       "      <th>21</th>\n",
       "      <td>2021</td>\n",
       "      <td>2</td>\n",
       "      <td>2.503270e+09</td>\n",
       "      <td>4.595740e+09</td>\n",
       "      <td>176.0</td>\n",
       "      <td>24.0</td>\n",
       "    </tr>\n",
       "    <tr>\n",
       "      <th>22</th>\n",
       "      <td>2022</td>\n",
       "      <td>2</td>\n",
       "      <td>3.915002e+09</td>\n",
       "      <td>7.286903e+09</td>\n",
       "      <td>177.0</td>\n",
       "      <td>23.0</td>\n",
       "    </tr>\n",
       "  </tbody>\n",
       "</table>\n",
       "</div>"
      ],
      "text/plain": [
       "    Year  Genre  Total Genre Gross  General Gross  General Movie Count   \n",
       "0   2000      0       1.600586e+09   7.399258e+09                195.0  \\\n",
       "1   2001      1       2.012124e+09   7.998313e+09                196.0   \n",
       "2   2002      1       2.900425e+09   8.502773e+09                186.0   \n",
       "3   2003      0       2.018149e+09   8.096038e+09                194.0   \n",
       "4   2004      1       2.749105e+09   8.941956e+09                189.0   \n",
       "5   2005      1       2.172847e+09   8.336182e+09                191.0   \n",
       "6   2006      1       2.594192e+09   8.927918e+09                194.0   \n",
       "7   2007      1       2.784300e+09   9.406028e+09                187.0   \n",
       "8   2008      1       2.596511e+09   9.397212e+09                187.0   \n",
       "9   2009      1       2.671019e+09   1.086371e+10                188.0   \n",
       "10  2010      1       3.018326e+09   9.167334e+09                184.0   \n",
       "11  2011      2       2.265980e+09   9.762256e+09                189.0   \n",
       "12  2012      1       2.518879e+09   1.022765e+10                188.0   \n",
       "13  2013      1       2.877316e+09   1.049967e+10                183.0   \n",
       "14  2014      1       2.757885e+09   1.056296e+10                194.0   \n",
       "15  2015      1       3.393422e+09   1.057477e+10                192.0   \n",
       "16  2016      1       3.890999e+09   1.074117e+10                193.0   \n",
       "17  2017      2       3.230403e+09   1.074188e+10                190.0   \n",
       "18  2018      2       3.986608e+09   1.129954e+10                195.0   \n",
       "19  2019      1       3.984278e+09   1.121652e+10                192.0   \n",
       "20  2020      1       4.149773e+08   1.310789e+09                164.0   \n",
       "21  2021      2       2.503270e+09   4.595740e+09                176.0   \n",
       "22  2022      2       3.915002e+09   7.286903e+09                177.0   \n",
       "\n",
       "    Movie by Genre Count  \n",
       "0                   44.0  \n",
       "1                   22.0  \n",
       "2                   30.0  \n",
       "3                   39.0  \n",
       "4                   28.0  \n",
       "5                   21.0  \n",
       "6                   25.0  \n",
       "7                   21.0  \n",
       "8                   27.0  \n",
       "9                   28.0  \n",
       "10                  21.0  \n",
       "11                  25.0  \n",
       "12                  20.0  \n",
       "13                  21.0  \n",
       "14                  23.0  \n",
       "15                  25.0  \n",
       "16                  25.0  \n",
       "17                  29.0  \n",
       "18                  30.0  \n",
       "19                  28.0  \n",
       "20                  12.0  \n",
       "21                  24.0  \n",
       "22                  23.0  "
      ]
     },
     "execution_count": 3,
     "metadata": {},
     "output_type": "execute_result"
    }
   ],
   "source": [
    "table_model = general_table\n",
    "for n in range(len(table_model)):\n",
    "    table_model.at[n,'General Gross'] = copy_general.loc[copy_general['Year'] == 2000+n, 'Gross'].sum()\n",
    "for n in range(len(table_model)):\n",
    "    table_model.at[n,'General Movie Count'] = copy_general.loc[copy_general['Year'] == 2000+n, 'Movie'].count()\n",
    "for n in range(len(table_model)):\n",
    "    table_model.at[n,'Movie by Genre Count'] = copy_general.loc[(copy_general['Year'] == 2000+n) & \n",
    "                                            (copy_general['Genre'] == table_model.at[n,'Genre']), 'Movie'].count()  \n",
    "\n",
    "table_model[\"Genre\"] = table_model[\"Genre\"].map({\"Comedy\":0, \"Adventure\":1, \"Action\":2})\n",
    "table_model"
   ]
  },
  {
   "cell_type": "markdown",
   "id": "5907472a",
   "metadata": {},
   "source": [
    "Hago una visualización de la tabla para determinar que no hay algún error y que los datos se corresponden con los capturados para después crear el modelo de regresión lineal.\n",
    "\n",
    "I create a visualization of the table to ensure that there are no errors and that the data corresponds to what was captured. This is done before proceeding to create the linear regression model."
   ]
  },
  {
   "cell_type": "code",
   "execution_count": 4,
   "id": "f91fba6b",
   "metadata": {},
   "outputs": [
    {
     "data": {
      "image/png": "[encoded data removed]",
      "text/plain": [
       "<Figure size 1000x600 with 1 Axes>"
      ]
     },
     "metadata": {},
     "output_type": "display_data"
    }
   ],
   "source": [
    "plt.figure(figsize=(10, 6))\n",
    "plt.plot(table_model['Year'], table_model['General Gross'], label='General Gross', marker='o', color='b')\n",
    "plt.plot(table_model['Year'], table_model['Total Genre Gross'], label='Total Gross by Genre', marker='x', color='r')\n",
    "plt.xlabel('Year')\n",
    "plt.ylabel('Gross')\n",
    "plt.title('Gross by Year')\n",
    "plt.legend()\n",
    "plt.grid(True)\n",
    "plt.show()"
   ]
  },
  {
   "cell_type": "markdown",
   "id": "971cf669",
   "metadata": {},
   "source": [
    "En la gráfica anterior podemos apreciar la suma de las ganancias totales de cada año comparadas con la suma de las ganancias del género más exitoso.\n",
    "\n",
    "In the previous graph, we can observe the sum of total earnings for each year compared to the sum of earnings of the most successful genre."
   ]
  },
  {
   "cell_type": "markdown",
   "id": "143ac9d7",
   "metadata": {},
   "source": [
    "Para generar un modelo de regresión lineal que intente predecir las ganancias totales del genero mas exitoso especifico las variables inependientes en X y la variavle dependiente en Y para después especificar que necesitoque de esos datos el ochenta por ciento van a ser mis datos de entrenamiento y el restante mis datos de test.\n",
    "\n",
    "To generate a linear regression model that attempts to predict the total earnings of the most successful genre, I specify the independent variables in X and the dependent variable in Y. Then, I indicate that I need 80% of this data for training and the remaining 20% for testing."
   ]
  },
  {
   "cell_type": "code",
   "execution_count": 5,
   "id": "b02f489b",
   "metadata": {},
   "outputs": [],
   "source": [
    "X = table_model[['Year','Genre','General Gross','General Movie Count','Movie by Genre Count']]\n",
    "y = table_model['Total Genre Gross']\n",
    "\n",
    "X_train,X_test,y_train,y_test = train_test_split(X, y.values.reshape(-1,1), train_size = 0.8, random_state = 1234,shuffle = True)"
   ]
  },
  {
   "cell_type": "code",
   "execution_count": 6,
   "id": "89fa38e4",
   "metadata": {},
   "outputs": [
    {
     "name": "stdout",
     "output_type": "stream",
     "text": [
      "                            OLS Regression Results                            \n",
      "==============================================================================\n",
      "Dep. Variable:                      y   R-squared:                       0.763\n",
      "Model:                            OLS   Adj. R-squared:                  0.664\n",
      "Method:                 Least Squares   F-statistic:                     7.725\n",
      "Date:                Mon, 07 Aug 2023   Prob (F-statistic):            0.00185\n",
      "Time:                        11:24:18   Log-Likelihood:                -383.28\n",
      "No. Observations:                  18   AIC:                             778.6\n",
      "Df Residuals:                      12   BIC:                             783.9\n",
      "Df Model:                           5                                         \n",
      "Covariance Type:            nonrobust                                         \n",
      "========================================================================================\n",
      "                           coef    std err          t      P>|t|      [0.025      0.975]\n",
      "----------------------------------------------------------------------------------------\n",
      "const                -1.457e+11   6.38e+10     -2.284      0.041   -2.85e+11   -6.69e+09\n",
      "Year                  7.223e+07   3.02e+07      2.388      0.034    6.32e+06    1.38e+08\n",
      "Genre                  1.21e+08   3.11e+08      0.389      0.704   -5.57e+08    7.99e+08\n",
      "General Gross            0.2579      0.113      2.280      0.042       0.011       0.504\n",
      "General Movie Count   6.511e+04    4.4e+07      0.001      0.999   -9.58e+07    9.59e+07\n",
      "Movie by Genre Count  2.589e+07   2.78e+07      0.931      0.370   -3.47e+07    8.65e+07\n",
      "==============================================================================\n",
      "Omnibus:                        0.978   Durbin-Watson:                   2.412\n",
      "Prob(Omnibus):                  0.613   Jarque-Bera (JB):                0.748\n",
      "Skew:                           0.106   Prob(JB):                        0.688\n",
      "Kurtosis:                       2.024   Cond. No.                     4.81e+12\n",
      "==============================================================================\n",
      "\n",
      "Notes:\n",
      "[1] Standard Errors assume that the covariance matrix of the errors is correctly specified.\n",
      "[2] The condition number is large, 4.81e+12. This might indicate that there are\n",
      "strong multicollinearity or other numerical problems.\n"
     ]
    },
    {
     "name": "stderr",
     "output_type": "stream",
     "text": [
      "C:\\Users\\elper\\AppData\\Local\\Programs\\Python\\Python311\\Lib\\site-packages\\scipy\\stats\\_stats_py.py:1806: UserWarning: kurtosistest only valid for n>=20 ... continuing anyway, n=18\n",
      "  warnings.warn(\"kurtosistest only valid for n>=20 ... continuing \"\n"
     ]
    }
   ],
   "source": [
    "X_train = sm.add_constant(X_train, prepend=True)\n",
    "modelo  = sm.OLS(endog=y_train, exog=X_train,)\n",
    "modelo  = modelo.fit()\n",
    "print(modelo.summary())"
   ]
  },
  {
   "cell_type": "markdown",
   "id": "9b11391a",
   "metadata": {},
   "source": [
    "Según los datos desplegados el valor de R-squared es aceptable para hacer una regresión lineal y tomando en cuenta los valores P podemos decir que las únicas variables significativas para la construcción de nuestro modelo son 'Year' y 'General Gross' por lo que se realizara un nuevo modelo excluyendo las otras variables que superan el 0.05.\n",
    "\n",
    "Based on the displayed data, the value of R-squared is acceptable for conducting linear regression. Taking into account the P-values, we can conclude that the only significant variables for constructing our model are 'Year' and 'General Gross'. Therefore, a new model will be built excluding the other variables that have P-values exceeding 0.05."
   ]
  },
  {
   "cell_type": "code",
   "execution_count": 7,
   "id": "0643e883",
   "metadata": {},
   "outputs": [
    {
     "name": "stdout",
     "output_type": "stream",
     "text": [
      "                            OLS Regression Results                            \n",
      "==============================================================================\n",
      "Dep. Variable:                      y   R-squared:                       0.737\n",
      "Model:                            OLS   Adj. R-squared:                  0.702\n",
      "Method:                 Least Squares   F-statistic:                     21.05\n",
      "Date:                Mon, 07 Aug 2023   Prob (F-statistic):           4.43e-05\n",
      "Time:                        11:24:18   Log-Likelihood:                -384.21\n",
      "No. Observations:                  18   AIC:                             774.4\n",
      "Df Residuals:                      15   BIC:                             777.1\n",
      "Df Model:                           2                                         \n",
      "Covariance Type:            nonrobust                                         \n",
      "=================================================================================\n",
      "                    coef    std err          t      P>|t|      [0.025      0.975]\n",
      "---------------------------------------------------------------------------------\n",
      "const          -1.39e+11   3.82e+10     -3.640      0.002    -2.2e+11   -5.76e+10\n",
      "Year           6.921e+07   1.89e+07      3.655      0.002    2.88e+07     1.1e+08\n",
      "General Gross     0.2809      0.047      5.914      0.000       0.180       0.382\n",
      "==============================================================================\n",
      "Omnibus:                        0.188   Durbin-Watson:                   2.511\n",
      "Prob(Omnibus):                  0.910   Jarque-Bera (JB):                0.393\n",
      "Skew:                           0.002   Prob(JB):                        0.822\n",
      "Kurtosis:                       2.276   Cond. No.                     3.05e+12\n",
      "==============================================================================\n",
      "\n",
      "Notes:\n",
      "[1] Standard Errors assume that the covariance matrix of the errors is correctly specified.\n",
      "[2] The condition number is large, 3.05e+12. This might indicate that there are\n",
      "strong multicollinearity or other numerical problems.\n"
     ]
    },
    {
     "name": "stderr",
     "output_type": "stream",
     "text": [
      "C:\\Users\\elper\\AppData\\Local\\Programs\\Python\\Python311\\Lib\\site-packages\\scipy\\stats\\_stats_py.py:1806: UserWarning: kurtosistest only valid for n>=20 ... continuing anyway, n=18\n",
      "  warnings.warn(\"kurtosistest only valid for n>=20 ... continuing \"\n"
     ]
    }
   ],
   "source": [
    "X_train = X_train.drop(columns = ['Movie by Genre Count','General Movie Count','Genre'])\n",
    "X_test  = X_test.drop(columns = ['Movie by Genre Count','General Movie Count','Genre'])\n",
    "\n",
    "X_train = sm.add_constant(X_train, prepend=True)\n",
    "modelo  = sm.OLS(endog=y_train, exog=X_train,)\n",
    "modelo  = modelo.fit()\n",
    "print(modelo.summary())"
   ]
  },
  {
   "cell_type": "markdown",
   "id": "9abbdba4",
   "metadata": {},
   "source": [
    "La ecuación de regresión ajustada es:\n",
    "\n",
    "The adjusted regression equation is:\n",
    "\n",
    "$$Genre Gross = -139000000000 + 6.9210000\\times\\text{Year} + 0.2809\\times\\text{General Gross}$$"
   ]
  },
  {
   "cell_type": "markdown",
   "id": "e32b169d",
   "metadata": {},
   "source": [
    "Una vez construido el nuevo modelo se calcula el rango donde van a a estar nuestros intervalos de confianza de los coeficientes de la ecuación anterior.\n",
    "\n",
    "Once the new model has been constructed, the range where our confidence intervals for the coefficients of the previous equation will be located is calculated."
   ]
  },
  {
   "cell_type": "code",
   "execution_count": 8,
   "id": "640c2b7a",
   "metadata": {},
   "outputs": [
    {
     "data": {
      "text/html": [
       "<div>\n",
       "<style scoped>\n",
       "    .dataframe tbody tr th:only-of-type {\n",
       "        vertical-align: middle;\n",
       "    }\n",
       "\n",
       "    .dataframe tbody tr th {\n",
       "        vertical-align: top;\n",
       "    }\n",
       "\n",
       "    .dataframe thead th {\n",
       "        text-align: right;\n",
       "    }\n",
       "</style>\n",
       "<table border=\"1\" class=\"dataframe\">\n",
       "  <thead>\n",
       "    <tr style=\"text-align: right;\">\n",
       "      <th></th>\n",
       "      <th>2.5%</th>\n",
       "      <th>97.5%</th>\n",
       "    </tr>\n",
       "  </thead>\n",
       "  <tbody>\n",
       "    <tr>\n",
       "      <th>const</th>\n",
       "      <td>-2.204325e+11</td>\n",
       "      <td>-5.762341e+10</td>\n",
       "    </tr>\n",
       "    <tr>\n",
       "      <th>Year</th>\n",
       "      <td>2.884877e+07</td>\n",
       "      <td>1.095812e+08</td>\n",
       "    </tr>\n",
       "    <tr>\n",
       "      <th>General Gross</th>\n",
       "      <td>1.796378e-01</td>\n",
       "      <td>3.820687e-01</td>\n",
       "    </tr>\n",
       "  </tbody>\n",
       "</table>\n",
       "</div>"
      ],
      "text/plain": [
       "                       2.5%         97.5%\n",
       "const         -2.204325e+11 -5.762341e+10\n",
       "Year           2.884877e+07  1.095812e+08\n",
       "General Gross  1.796378e-01  3.820687e-01"
      ]
     },
     "execution_count": 8,
     "metadata": {},
     "output_type": "execute_result"
    }
   ],
   "source": [
    "intervalos_ci = modelo.conf_int(alpha=0.05)\n",
    "intervalos_ci.columns = ['2.5%', '97.5%']\n",
    "intervalos_ci"
   ]
  },
  {
   "cell_type": "markdown",
   "id": "b3eec01f",
   "metadata": {},
   "source": [
    "Finalmente utilizando el modelo construido podemos hacer una predicción de las ganancias que obtendrá el género más exitoso en este caso del año 2023 suponiento que se tiene una ganancia general estimada de 10000000000 dólares.\n",
    "\n",
    "Finally, using the constructed model, we can make a prediction of the earnings that the most successful genre will achieve, in this case for the year 2023, assuming an estimated overall earnings of 10,000,000,000 dollars."
   ]
  },
  {
   "cell_type": "code",
   "execution_count": 9,
   "id": "036f9100",
   "metadata": {},
   "outputs": [
    {
     "data": {
      "text/html": [
       "<div>\n",
       "<style scoped>\n",
       "    .dataframe tbody tr th:only-of-type {\n",
       "        vertical-align: middle;\n",
       "    }\n",
       "\n",
       "    .dataframe tbody tr th {\n",
       "        vertical-align: top;\n",
       "    }\n",
       "\n",
       "    .dataframe thead th {\n",
       "        text-align: right;\n",
       "    }\n",
       "</style>\n",
       "<table border=\"1\" class=\"dataframe\">\n",
       "  <thead>\n",
       "    <tr style=\"text-align: right;\">\n",
       "      <th></th>\n",
       "      <th>mean</th>\n",
       "      <th>mean_se</th>\n",
       "      <th>mean_ci_lower</th>\n",
       "      <th>mean_ci_upper</th>\n",
       "      <th>obs_ci_lower</th>\n",
       "      <th>obs_ci_upper</th>\n",
       "    </tr>\n",
       "  </thead>\n",
       "  <tbody>\n",
       "    <tr>\n",
       "      <th>0</th>\n",
       "      <td>3.802464e+09</td>\n",
       "      <td>2.408899e+08</td>\n",
       "      <td>3.289019e+09</td>\n",
       "      <td>4.315908e+09</td>\n",
       "      <td>2.631925e+09</td>\n",
       "      <td>4.973002e+09</td>\n",
       "    </tr>\n",
       "  </tbody>\n",
       "</table>\n",
       "</div>"
      ],
      "text/plain": [
       "           mean       mean_se  mean_ci_lower  mean_ci_upper  obs_ci_lower   \n",
       "0  3.802464e+09  2.408899e+08   3.289019e+09   4.315908e+09  2.631925e+09  \\\n",
       "\n",
       "   obs_ci_upper  \n",
       "0  4.973002e+09  "
      ]
     },
     "execution_count": 9,
     "metadata": {},
     "output_type": "execute_result"
    }
   ],
   "source": [
    "X_new = pd.DataFrame({'const':[1], 'Year':[2023], 'General Gross':[10000000000]})\n",
    "pred = modelo.get_prediction(exog = X_new).summary_frame(alpha=0.05)\n",
    "pred"
   ]
  },
  {
   "cell_type": "markdown",
   "id": "e4cf570c",
   "metadata": {},
   "source": [
    "En este caso nos arroja un estimado de unos 3800 millones de dólares independientemente del género más popular con un error estimado de 240 millones de dolares, aunque para hacer este supuesto tendríamos que hacer una predicción para el estimado de las ganancias totales del siguiente año.\n",
    "\n",
    "In this case, it gives us an estimate of around 3.8 billion dollars regardless of the most popular genre, with an estimated error of 240 million dollars. However, to make this assumption, we would need to predict the estimated total earnings for the next year."
   ]
  },
  {
   "cell_type": "code",
   "execution_count": 10,
   "id": "c5ce1eb3",
   "metadata": {},
   "outputs": [
    {
     "data": {
      "text/plain": [
       "22381.317257932256"
      ]
     },
     "execution_count": 10,
     "metadata": {},
     "output_type": "execute_result"
    }
   ],
   "source": [
    "X_test = sm.add_constant(X_test, prepend=True)\n",
    "predicciones = modelo.predict(exog = X_test)\n",
    "rmse = mean_squared_error(\n",
    "        y_true  = y_test,\n",
    "        y_pred  = predicciones,\n",
    "        squared = False\n",
    "       )\n",
    "np.sqrt(rmse)"
   ]
  },
  {
   "cell_type": "markdown",
   "id": "9a173e5f",
   "metadata": {},
   "source": [
    "Cabe resaltar que para el modelo construido, se estima que el cálculo de la predicción se aleje del valor real por unos 22381 dólares\n",
    "\n",
    "It's worth noting that for the constructed model, the prediction calculation is estimated to deviate from the actual value by around 22,381 dollars."
   ]
  },
  {
   "cell_type": "markdown",
   "id": "161f882c",
   "metadata": {},
   "source": [
    "Para determinar si la ganancia final de una pelicula tiene alguna correlación con el género, el distribuidor o el mes de lanzamiento construyo un nuevo data frame que contenga esos datos, asignandole valores numéricos a las variables.\n",
    "\n",
    "To determine if the final earnings of a movie have any correlation with the genre, distributor, or release month, I am constructing a new data frame containing this data, assigning numerical values to the variables."
   ]
  },
  {
   "cell_type": "code",
   "execution_count": 11,
   "id": "d0335dbb",
   "metadata": {},
   "outputs": [
    {
     "data": {
      "text/html": [
       "<div>\n",
       "<style scoped>\n",
       "    .dataframe tbody tr th:only-of-type {\n",
       "        vertical-align: middle;\n",
       "    }\n",
       "\n",
       "    .dataframe tbody tr th {\n",
       "        vertical-align: top;\n",
       "    }\n",
       "\n",
       "    .dataframe thead th {\n",
       "        text-align: right;\n",
       "    }\n",
       "</style>\n",
       "<table border=\"1\" class=\"dataframe\">\n",
       "  <thead>\n",
       "    <tr style=\"text-align: right;\">\n",
       "      <th></th>\n",
       "      <th>Gross</th>\n",
       "      <th>Genre</th>\n",
       "      <th>Distributor</th>\n",
       "      <th>Year</th>\n",
       "      <th>Month</th>\n",
       "    </tr>\n",
       "  </thead>\n",
       "  <tbody>\n",
       "    <tr>\n",
       "      <th>0</th>\n",
       "      <td>2.601968e+08</td>\n",
       "      <td>1.0</td>\n",
       "      <td>3.0</td>\n",
       "      <td>2000</td>\n",
       "      <td>11</td>\n",
       "    </tr>\n",
       "    <tr>\n",
       "      <th>1</th>\n",
       "      <td>2.336321e+08</td>\n",
       "      <td>1.0</td>\n",
       "      <td>5.0</td>\n",
       "      <td>2000</td>\n",
       "      <td>12</td>\n",
       "    </tr>\n",
       "    <tr>\n",
       "      <th>2</th>\n",
       "      <td>2.154099e+08</td>\n",
       "      <td>2.0</td>\n",
       "      <td>6.0</td>\n",
       "      <td>2000</td>\n",
       "      <td>5</td>\n",
       "    </tr>\n",
       "    <tr>\n",
       "      <th>3</th>\n",
       "      <td>1.876982e+08</td>\n",
       "      <td>2.0</td>\n",
       "      <td>11.0</td>\n",
       "      <td>2000</td>\n",
       "      <td>5</td>\n",
       "    </tr>\n",
       "    <tr>\n",
       "      <th>4</th>\n",
       "      <td>1.828084e+08</td>\n",
       "      <td>7.0</td>\n",
       "      <td>6.0</td>\n",
       "      <td>2000</td>\n",
       "      <td>12</td>\n",
       "    </tr>\n",
       "    <tr>\n",
       "      <th>...</th>\n",
       "      <td>...</td>\n",
       "      <td>...</td>\n",
       "      <td>...</td>\n",
       "      <td>...</td>\n",
       "      <td>...</td>\n",
       "    </tr>\n",
       "    <tr>\n",
       "      <th>4030</th>\n",
       "      <td>2.585450e+05</td>\n",
       "      <td>3.0</td>\n",
       "      <td>646.0</td>\n",
       "      <td>2022</td>\n",
       "      <td>10</td>\n",
       "    </tr>\n",
       "    <tr>\n",
       "      <th>4031</th>\n",
       "      <td>2.515860e+05</td>\n",
       "      <td>6.0</td>\n",
       "      <td>1214.0</td>\n",
       "      <td>2022</td>\n",
       "      <td>12</td>\n",
       "    </tr>\n",
       "    <tr>\n",
       "      <th>4032</th>\n",
       "      <td>2.361530e+05</td>\n",
       "      <td>3.0</td>\n",
       "      <td>6.0</td>\n",
       "      <td>2022</td>\n",
       "      <td>9</td>\n",
       "    </tr>\n",
       "    <tr>\n",
       "      <th>4033</th>\n",
       "      <td>2.299210e+05</td>\n",
       "      <td>5.0</td>\n",
       "      <td>61.0</td>\n",
       "      <td>2022</td>\n",
       "      <td>1</td>\n",
       "    </tr>\n",
       "    <tr>\n",
       "      <th>4034</th>\n",
       "      <td>2.131010e+05</td>\n",
       "      <td>7.0</td>\n",
       "      <td>677.0</td>\n",
       "      <td>2022</td>\n",
       "      <td>4</td>\n",
       "    </tr>\n",
       "  </tbody>\n",
       "</table>\n",
       "<p>4035 rows × 5 columns</p>\n",
       "</div>"
      ],
      "text/plain": [
       "             Gross  Genre  Distributor  Year  Month\n",
       "0     2.601968e+08    1.0          3.0  2000     11\n",
       "1     2.336321e+08    1.0          5.0  2000     12\n",
       "2     2.154099e+08    2.0          6.0  2000      5\n",
       "3     1.876982e+08    2.0         11.0  2000      5\n",
       "4     1.828084e+08    7.0          6.0  2000     12\n",
       "...            ...    ...          ...   ...    ...\n",
       "4030  2.585450e+05    3.0        646.0  2022     10\n",
       "4031  2.515860e+05    6.0       1214.0  2022     12\n",
       "4032  2.361530e+05    3.0          6.0  2022      9\n",
       "4033  2.299210e+05    5.0         61.0  2022      1\n",
       "4034  2.131010e+05    7.0        677.0  2022      4\n",
       "\n",
       "[4035 rows x 5 columns]"
      ]
     },
     "execution_count": 11,
     "metadata": {},
     "output_type": "execute_result"
    }
   ],
   "source": [
    "general_data = pd.read_csv('updated_data/indexGeneral.csv')\n",
    "gen = pd.read_csv('updated_data/genres.csv')\n",
    "dis = pd.read_csv('updated_data/distributors.csv')\n",
    "general_table = pd.read_csv('updated_data/resume_table.csv')\n",
    "copy_general = general_data\n",
    "copy_general['Genre'] = None\n",
    "copy_general['Distributor'] = None\n",
    "copy_general['Year'] = None\n",
    "gen['num_value'] = None\n",
    "dis['num_value'] = None\n",
    "gen['num_value'] = range(1, len(gen) + 1)\n",
    "dis['num_value'] = range(1, len(dis) + 1)\n",
    "copy_general['Release'] = pd.to_datetime(copy_general['Release'], format='%Y-%m-%d')\n",
    "copy_general['Month'] = general_data['Release'].dt.month\n",
    "copy_general['Release'] = pd.to_datetime(copy_general['Release'], format='%Y-%m-%d')\n",
    "copy_general['Year'] = general_data['Release'].dt.year\n",
    "mapeo = gen.set_index('id')['num_value'].to_dict()\n",
    "copy_general['Genre'] = copy_general['id_genre'].map(mapeo).fillna(copy_general['Genre'])\n",
    "mapeo = dis.set_index('id')['num_value'].to_dict()\n",
    "copy_general['Distributor'] = copy_general['id_distributor'].map(mapeo).fillna(copy_general['Distributor'])\n",
    "del copy_general['id_distributor']\n",
    "del copy_general['id_genre']\n",
    "del copy_general['Movie']\n",
    "del copy_general['Release']\n",
    "copy_general = copy_general.dropna().reset_index(drop=True)\n",
    "copy_general"
   ]
  },
  {
   "cell_type": "code",
   "execution_count": 12,
   "id": "daa03567",
   "metadata": {},
   "outputs": [
    {
     "data": {
      "text/plain": [
       "-0.2460964420354606"
      ]
     },
     "execution_count": 12,
     "metadata": {},
     "output_type": "execute_result"
    }
   ],
   "source": [
    "correl = copy_general['Gross'].corr(copy_general['Genre'])\n",
    "correl "
   ]
  },
  {
   "cell_type": "code",
   "execution_count": 13,
   "id": "44d272e6",
   "metadata": {},
   "outputs": [
    {
     "data": {
      "text/plain": [
       "-0.15965420951820886"
      ]
     },
     "execution_count": 13,
     "metadata": {},
     "output_type": "execute_result"
    }
   ],
   "source": [
    "correl = copy_general['Gross'].corr(copy_general['Distributor'])\n",
    "correl "
   ]
  },
  {
   "cell_type": "code",
   "execution_count": 14,
   "id": "b1504610",
   "metadata": {},
   "outputs": [
    {
     "data": {
      "text/plain": [
       "0.0465969249824687"
      ]
     },
     "execution_count": 14,
     "metadata": {},
     "output_type": "execute_result"
    }
   ],
   "source": [
    "correl = copy_general['Gross'].corr(copy_general['Month'])\n",
    "correl "
   ]
  },
  {
   "cell_type": "markdown",
   "id": "699fffea",
   "metadata": {},
   "source": [
    "Dado que ningún valor de los anteriores es cercano a 1 o -1 podemos decir que las ganancias de cada película dependen muy poco de las variables escogidas (género, distribuidor y mes).\n",
    "\n",
    "Since none of the values from the above are close to 1 or -1, we can conclude that the earnings of each movie are not strongly dependent on the chosen variables (genre, distributor, and month)."
   ]
  },
  {
   "cell_type": "markdown",
   "id": "a54e1f3b",
   "metadata": {},
   "source": [
    "Para intentar indagar un poco más acerca de si estas variables influían en las ganancias finales de una película intenete construir un nuevo modelo aplicando una escala logarítmica a los valores obtenidos de mi tabla anterior ya que esta fue la manera en que mi coeficiente de determinación, sin embargo no se acercaba tanto a 1. Estos fueron mis resultados.\n",
    "\n",
    "To further investigate whether these variables influence the final earnings of a movie, I attempted to build a new model by applying a logarithmic scale to the values obtained from my previous table. This was done because it was the way my coefficient of determination approached 1. Here are my results."
   ]
  },
  {
   "cell_type": "code",
   "execution_count": 15,
   "id": "7e1a7b96",
   "metadata": {},
   "outputs": [
    {
     "data": {
      "text/html": [
       "<div>\n",
       "<style scoped>\n",
       "    .dataframe tbody tr th:only-of-type {\n",
       "        vertical-align: middle;\n",
       "    }\n",
       "\n",
       "    .dataframe tbody tr th {\n",
       "        vertical-align: top;\n",
       "    }\n",
       "\n",
       "    .dataframe thead th {\n",
       "        text-align: right;\n",
       "    }\n",
       "</style>\n",
       "<table border=\"1\" class=\"dataframe\">\n",
       "  <thead>\n",
       "    <tr style=\"text-align: right;\">\n",
       "      <th></th>\n",
       "      <th>Gross</th>\n",
       "      <th>Genre</th>\n",
       "      <th>Distributor</th>\n",
       "      <th>Year</th>\n",
       "      <th>Month</th>\n",
       "    </tr>\n",
       "  </thead>\n",
       "  <tbody>\n",
       "    <tr>\n",
       "      <th>0</th>\n",
       "      <td>19.376949</td>\n",
       "      <td>1.0</td>\n",
       "      <td>1.098612</td>\n",
       "      <td>2000</td>\n",
       "      <td>11</td>\n",
       "    </tr>\n",
       "    <tr>\n",
       "      <th>1</th>\n",
       "      <td>19.269258</td>\n",
       "      <td>1.0</td>\n",
       "      <td>1.609438</td>\n",
       "      <td>2000</td>\n",
       "      <td>12</td>\n",
       "    </tr>\n",
       "    <tr>\n",
       "      <th>2</th>\n",
       "      <td>19.188053</td>\n",
       "      <td>2.0</td>\n",
       "      <td>1.791759</td>\n",
       "      <td>2000</td>\n",
       "      <td>5</td>\n",
       "    </tr>\n",
       "    <tr>\n",
       "      <th>3</th>\n",
       "      <td>19.050346</td>\n",
       "      <td>2.0</td>\n",
       "      <td>2.397895</td>\n",
       "      <td>2000</td>\n",
       "      <td>5</td>\n",
       "    </tr>\n",
       "    <tr>\n",
       "      <th>4</th>\n",
       "      <td>19.023949</td>\n",
       "      <td>7.0</td>\n",
       "      <td>1.791759</td>\n",
       "      <td>2000</td>\n",
       "      <td>12</td>\n",
       "    </tr>\n",
       "    <tr>\n",
       "      <th>...</th>\n",
       "      <td>...</td>\n",
       "      <td>...</td>\n",
       "      <td>...</td>\n",
       "      <td>...</td>\n",
       "      <td>...</td>\n",
       "    </tr>\n",
       "    <tr>\n",
       "      <th>4030</th>\n",
       "      <td>12.462825</td>\n",
       "      <td>3.0</td>\n",
       "      <td>6.470800</td>\n",
       "      <td>2022</td>\n",
       "      <td>10</td>\n",
       "    </tr>\n",
       "    <tr>\n",
       "      <th>4031</th>\n",
       "      <td>12.435540</td>\n",
       "      <td>6.0</td>\n",
       "      <td>7.101676</td>\n",
       "      <td>2022</td>\n",
       "      <td>12</td>\n",
       "    </tr>\n",
       "    <tr>\n",
       "      <th>4032</th>\n",
       "      <td>12.372235</td>\n",
       "      <td>3.0</td>\n",
       "      <td>1.791759</td>\n",
       "      <td>2022</td>\n",
       "      <td>9</td>\n",
       "    </tr>\n",
       "    <tr>\n",
       "      <th>4033</th>\n",
       "      <td>12.345491</td>\n",
       "      <td>5.0</td>\n",
       "      <td>4.110874</td>\n",
       "      <td>2022</td>\n",
       "      <td>1</td>\n",
       "    </tr>\n",
       "    <tr>\n",
       "      <th>4034</th>\n",
       "      <td>12.269522</td>\n",
       "      <td>7.0</td>\n",
       "      <td>6.517671</td>\n",
       "      <td>2022</td>\n",
       "      <td>4</td>\n",
       "    </tr>\n",
       "  </tbody>\n",
       "</table>\n",
       "<p>4035 rows × 5 columns</p>\n",
       "</div>"
      ],
      "text/plain": [
       "          Gross  Genre  Distributor  Year  Month\n",
       "0     19.376949    1.0     1.098612  2000     11\n",
       "1     19.269258    1.0     1.609438  2000     12\n",
       "2     19.188053    2.0     1.791759  2000      5\n",
       "3     19.050346    2.0     2.397895  2000      5\n",
       "4     19.023949    7.0     1.791759  2000     12\n",
       "...         ...    ...          ...   ...    ...\n",
       "4030  12.462825    3.0     6.470800  2022     10\n",
       "4031  12.435540    6.0     7.101676  2022     12\n",
       "4032  12.372235    3.0     1.791759  2022      9\n",
       "4033  12.345491    5.0     4.110874  2022      1\n",
       "4034  12.269522    7.0     6.517671  2022      4\n",
       "\n",
       "[4035 rows x 5 columns]"
      ]
     },
     "execution_count": 15,
     "metadata": {},
     "output_type": "execute_result"
    }
   ],
   "source": [
    "copy_general['Gross'] = np.log(copy_general['Gross'])\n",
    "copy_general['Distributor'] = np.log(copy_general['Distributor'])\n",
    "copy_general "
   ]
  },
  {
   "cell_type": "code",
   "execution_count": 16,
   "id": "3217e76d",
   "metadata": {},
   "outputs": [],
   "source": [
    "from sklearn.model_selection import train_test_split\n",
    "\n",
    "\n",
    "X = copy_general[['Genre','Distributor','Year','Month']]\n",
    "y = copy_general['Gross']\n",
    "\n",
    "X_train, X_test, y_train, y_test = train_test_split(X, y.values.reshape(-1,1), train_size   = 0.8, random_state = 1234,shuffle = True)"
   ]
  },
  {
   "cell_type": "code",
   "execution_count": 17,
   "id": "f648b529",
   "metadata": {},
   "outputs": [
    {
     "name": "stdout",
     "output_type": "stream",
     "text": [
      "                            OLS Regression Results                            \n",
      "==============================================================================\n",
      "Dep. Variable:                      y   R-squared:                       0.376\n",
      "Model:                            OLS   Adj. R-squared:                  0.375\n",
      "Method:                 Least Squares   F-statistic:                     485.1\n",
      "Date:                Mon, 07 Aug 2023   Prob (F-statistic):               0.00\n",
      "Time:                        11:24:18   Log-Likelihood:                -5509.6\n",
      "No. Observations:                3228   AIC:                         1.103e+04\n",
      "Df Residuals:                    3223   BIC:                         1.106e+04\n",
      "Df Model:                           4                                         \n",
      "Covariance Type:            nonrobust                                         \n",
      "===============================================================================\n",
      "                  coef    std err          t      P>|t|      [0.025      0.975]\n",
      "-------------------------------------------------------------------------------\n",
      "const          58.1842      7.165      8.121      0.000      44.136      72.232\n",
      "Genre          -0.0822      0.010     -8.090      0.000      -0.102      -0.062\n",
      "Distributor    -0.6090      0.016    -38.344      0.000      -0.640      -0.578\n",
      "Year           -0.0198      0.004     -5.551      0.000      -0.027      -0.013\n",
      "Month           0.0114      0.007      1.672      0.095      -0.002       0.025\n",
      "==============================================================================\n",
      "Omnibus:                      234.714   Durbin-Watson:                   2.003\n",
      "Prob(Omnibus):                  0.000   Jarque-Bera (JB):              361.119\n",
      "Skew:                          -0.577   Prob(JB):                     3.84e-79\n",
      "Kurtosis:                       4.164   Cond. No.                     6.13e+05\n",
      "==============================================================================\n",
      "\n",
      "Notes:\n",
      "[1] Standard Errors assume that the covariance matrix of the errors is correctly specified.\n",
      "[2] The condition number is large, 6.13e+05. This might indicate that there are\n",
      "strong multicollinearity or other numerical problems.\n"
     ]
    }
   ],
   "source": [
    "import statsmodels.api as sm\n",
    "X_train = sm.add_constant(X_train, prepend=True)\n",
    "modelo  = sm.OLS(endog=y_train, exog=X_train,)\n",
    "modelo  = modelo.fit()\n",
    "print(modelo.summary())"
   ]
  },
  {
   "cell_type": "markdown",
   "id": "d2bbc916",
   "metadata": {},
   "source": [
    "Como conclusión me parece que se debe de usar otro modelo de regresión, por que a pesar de que lo valores de P son practicamente 0 puede que se deba a una aplicación incorrecta del modelo.\n",
    "\n",
    "As a conclusion, it seems that another regression model should be considered. Despite the fact that the P-values are almost 0, it's possible that this could be due to an incorrect application of the model."
   ]
  },
  {
   "cell_type": "code",
   "execution_count": 19,
   "id": "edba03dc",
   "metadata": {},
   "outputs": [],
   "source": [
    "table_model.to_csv('tablemodel.csv', index=False)"
   ]
  },
  {
   "cell_type": "code",
   "execution_count": null,
   "id": "adeccb85",
   "metadata": {},
   "outputs": [],
   "source": []
  }
 ],
 "metadata": {
  "kernelspec": {
   "display_name": "Python 3 (ipykernel)",
   "language": "python",
   "name": "python3"
  },
  "language_info": {
   "codemirror_mode": {
    "name": "ipython",
    "version": 3
   },
   "file_extension": ".py",
   "mimetype": "text/x-python",
   "name": "python",
   "nbconvert_exporter": "python",
   "pygments_lexer": "ipython3",
   "version": "3.11.3"
  }
 },
 "nbformat": 4,
 "nbformat_minor": 5
}
